{
 "cells": [
  {
   "cell_type": "code",
   "execution_count": 1,
   "id": "49bc5f87-8b90-433d-8652-26ad991972ab",
   "metadata": {},
   "outputs": [],
   "source": [
    "import pandas as pd\n",
    "import numpy as np\n",
    "import random"
   ]
  },
  {
   "cell_type": "code",
   "execution_count": 3,
   "id": "644fdbdd-80cb-47dc-9c31-7761841d9c1f",
   "metadata": {},
   "outputs": [],
   "source": [
    "# Number of entries to generate\n",
    "num_entries = 50000\n",
    "\n",
    "# Generate random data for the metrics\n",
    "data = {\n",
    "    \"Month\": np.random.choice([\n",
    "        \"January\", \"February\", \"March\", \"April\", \"May\", \"June\", \n",
    "        \"July\", \"August\", \"September\", \"October\", \"November\", \"December\"\n",
    "    ], num_entries),\n",
    "\n",
    "    # Customer Acquisition Growth\n",
    "    \"New_Customers\": np.random.randint(10, 300, num_entries),\n",
    "    \"Referral_Percentage\": np.random.uniform(20, 50, num_entries).round(2),\n",
    "    \"Campaign_Percentage\": np.random.uniform(10, 40, num_entries).round(2),\n",
    "    \"Partnership_Percentage\": np.random.uniform(10, 30, num_entries).round(2),\n",
    "\n",
    "    # Grid Support Performance\n",
    "    \"Energy_Discharged_kWh\": np.random.randint(500, 2000, num_entries),\n",
    "    \"Outage_Avoidance_Percentage\": np.random.uniform(80, 100, num_entries).round(2),\n",
    "\n",
    "    # Cost Savings for Customers\n",
    "    \"Avg_Savings_Per_Customer\": np.random.uniform(20, 50, num_entries).round(2),\n",
    "    \"Total_Savings\": np.random.randint(1000, 10000, num_entries)\n",
    "}"
   ]
  },
  {
   "cell_type": "code",
   "execution_count": 5,
   "id": "ea5be1d9-51fa-4a84-8de1-27def89a1292",
   "metadata": {},
   "outputs": [
    {
     "name": "stdout",
     "output_type": "stream",
     "text": [
      "CSV file 'base_metrics_data.csv' with 50000 entries has been created.\n"
     ]
    }
   ],
   "source": [
    "# Convert to DataFrame\n",
    "df = pd.DataFrame(data)\n",
    "\n",
    "# Save to CSV\n",
    "output_file = \"base_metrics_data.csv\"\n",
    "df.to_csv(output_file, index=False)\n",
    "\n",
    "print(f\"CSV file '{output_file}' with {num_entries} entries has been created.\")"
   ]
  },
  {
   "cell_type": "code",
   "execution_count": null,
   "id": "a555325d-2c50-4b54-9952-0b7845b9e50d",
   "metadata": {},
   "outputs": [],
   "source": []
  }
 ],
 "metadata": {
  "kernelspec": {
   "display_name": "Python 3 (ipykernel)",
   "language": "python",
   "name": "python3"
  },
  "language_info": {
   "codemirror_mode": {
    "name": "ipython",
    "version": 3
   },
   "file_extension": ".py",
   "mimetype": "text/x-python",
   "name": "python",
   "nbconvert_exporter": "python",
   "pygments_lexer": "ipython3",
   "version": "3.12.4"
  }
 },
 "nbformat": 4,
 "nbformat_minor": 5
}
